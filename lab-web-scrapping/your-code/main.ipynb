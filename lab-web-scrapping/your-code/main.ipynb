{
 "cells": [
  {
   "cell_type": "markdown",
   "metadata": {
    "id": "dZceeUBDHxk-"
   },
   "source": [
    "# Web Scraping Lab\n",
    "\n",
    "You will find in this notebook some scrapy exercises to practise your scraping skills.\n",
    "\n",
    "**Tips:**\n",
    "\n",
    "- Check the response status code for each request to ensure you have obtained the intended contennt.\n",
    "- Print the response text in each request to understand the kind of info you are getting and its format.\n",
    "- Check for patterns in the response text to extract the data/info requested in each question.\n",
    "- Visit each url and take a look at its source through Chrome DevTools. You'll need to identify the html tags, special class names etc. used for the html content you are expected to extract."
   ]
  },
  {
   "cell_type": "markdown",
   "metadata": {
    "id": "_0muvOz5HxlA"
   },
   "source": [
    "- [Requests library](http://docs.python-requests.org/en/master/#the-user-guide) documentation \n",
    "- [Beautiful Soup Doc](https://www.crummy.com/software/BeautifulSoup/bs4/doc/)\n",
    "- [Urllib](https://docs.python.org/3/library/urllib.html#module-urllib)\n",
    "- [re lib](https://docs.python.org/3/library/re.html)\n",
    "- [lxml lib](https://lxml.de/)\n",
    "- [Scrapy](https://scrapy.org/)\n",
    "- [List of HTTP status codes](https://en.wikipedia.org/wiki/List_of_HTTP_status_codes)\n",
    "- [HTML basics](http://www.simplehtmlguide.com/cheatsheet.php)\n",
    "- [CSS basics](https://www.cssbasics.com/#page_start)"
   ]
  },
  {
   "cell_type": "markdown",
   "metadata": {
    "id": "oppcJCOvHxlB"
   },
   "source": [
    "#### Below are the libraries and modules you may need. `requests`,  `BeautifulSoup` and `pandas` are imported for you. If you prefer to use additional libraries feel free to uncomment them."
   ]
  },
  {
   "cell_type": "code",
   "execution_count": 1,
   "metadata": {
    "id": "J83Hfvj-HxlB"
   },
   "outputs": [],
   "source": [
    "import requests\n",
    "from bs4 import BeautifulSoup\n",
    "import pandas as pd\n",
    "import re"
   ]
  },
  {
   "cell_type": "markdown",
   "metadata": {
    "id": "XiHspKe2HxlC"
   },
   "source": [
    "#### Download, parse (using BeautifulSoup), and print the content from the Trending Developers page from GitHub:"
   ]
  },
  {
   "cell_type": "code",
   "execution_count": 2,
   "metadata": {
    "id": "3ha4BKw6HxlE",
    "tags": []
   },
   "outputs": [],
   "source": [
    "url = 'https://github.com/trending/developers'\n",
    "html = requests.get(url).content\n",
    "soup = BeautifulSoup(html, 'html')\n",
    "# soup"
   ]
  },
  {
   "cell_type": "markdown",
   "metadata": {
    "id": "6BeI8oqOHxlG"
   },
   "source": [
    "#### Display the names of the trending developers retrieved in the previous step.\n",
    "\n",
    "Your output should be a Python list of developer names. Each name should not contain any html tag.\n",
    "\n",
    "**Instructions:**\n",
    "\n",
    "1. Find out the html tag and class names used for the developer names. You can achieve this using Chrome DevTools.\n",
    "\n",
    "1. Use BeautifulSoup to extract all the html elements that contain the developer names.\n",
    "\n",
    "1. Use string manipulation techniques to replace whitespaces and linebreaks (i.e. `\\n`) in the *text* of each html element. Use a list to store the clean names.\n",
    "\n",
    "1. Print the list of names.\n",
    "\n",
    "Your output should look like below:\n",
    "\n",
    "```\n",
    "['trimstray (@trimstray)',\n",
    " 'joewalnes (JoeWalnes)',\n",
    " 'charlax (Charles-AxelDein)',\n",
    " 'ForrestKnight (ForrestKnight)',\n",
    " 'revery-ui (revery-ui)',\n",
    " 'alibaba (Alibaba)',\n",
    " 'Microsoft (Microsoft)',\n",
    " 'github (GitHub)',\n",
    " 'facebook (Facebook)',\n",
    " 'boazsegev (Bo)',\n",
    " 'google (Google)',\n",
    " 'cloudfetch',\n",
    " 'sindresorhus (SindreSorhus)',\n",
    " 'tensorflow',\n",
    " 'apache (TheApacheSoftwareFoundation)',\n",
    " 'DevonCrawford (DevonCrawford)',\n",
    " 'ARMmbed (ArmMbed)',\n",
    " 'vuejs (vuejs)',\n",
    " 'fastai (fast.ai)',\n",
    " 'QiShaoXuan (Qi)',\n",
    " 'joelparkerhenderson (JoelParkerHenderson)',\n",
    " 'torvalds (LinusTorvalds)',\n",
    " 'CyC2018',\n",
    " 'komeiji-satori (神楽坂覚々)',\n",
    " 'script-8']\n",
    " ```"
   ]
  },
  {
   "cell_type": "code",
   "execution_count": 5,
   "metadata": {
    "colab": {
     "base_uri": "https://localhost:8080/"
    },
    "id": "4pNLHvFMLmWH",
    "outputId": "dd4f880f-2385-42b6-c0f4-7a829d7d1dfa"
   },
   "outputs": [
    {
     "data": {
      "text/plain": [
       "['Trending', 'These are the developers building the hot tools today.']"
      ]
     },
     "execution_count": 5,
     "metadata": {},
     "output_type": "execute_result"
    }
   ],
   "source": [
    "# Empieza en el tercer ya que los 2 primeros son parte del header: \n",
    "text[:2]\n",
    "# text"
   ]
  },
  {
   "cell_type": "code",
   "execution_count": 3,
   "metadata": {
    "colab": {
     "base_uri": "https://localhost:8080/"
    },
    "id": "MySVig9gHxlJ",
    "outputId": "099c438c-7bd4-4ce2-b0b0-a9e1777f93bd"
   },
   "outputs": [
    {
     "data": {
      "text/plain": [
       "['Ariel Mashraki (@a8m)',\n",
       " 'Volodymyr Agafonkin (@mourner)',\n",
       " 'JJ Kasper (@ijjk)',\n",
       " 'Olivier Halligon (@AliSoftware)',\n",
       " 'Romain Beaumont (@rom1504)',\n",
       " 'afc163 (@afc163)',\n",
       " 'Azure SDK Bot (@azure-sdk)',\n",
       " 'Sandy Ryza (@sryza)',\n",
       " 'William Candillon (@wcandillon)',\n",
       " 'Zhanghao Wu (@Michaelvll)',\n",
       " 'Stephen Dolan (@stedolan)',\n",
       " 'Paul Beusterien (@paulb777)',\n",
       " 'Tianon Gravi (@tianon)',\n",
       " 'Magnus Edenhill (@edenhill)',\n",
       " 'Brian Flad (@bflad)',\n",
       " 'jdhao (@jdhao)',\n",
       " 'C. T. Lin (@chentsulin)',\n",
       " 'Nolan Lawson (@nolanlawson)',\n",
       " 'Kent C. Dodds (@kentcdodds)',\n",
       " 'Dotan Simha (@dotansimha)',\n",
       " 'Don Jayamanne (@DonJayamanne)',\n",
       " 'Ian Storm Taylor (@ianstormtaylor)',\n",
       " 'George Hotz (@geohot)',\n",
       " 'Maurizio Pillitu (@maoo)',\n",
       " 'yan (@diracdeltas)']"
      ]
     },
     "execution_count": 3,
     "metadata": {},
     "output_type": "execute_result"
    }
   ],
   "source": [
    "tag = [\"h1\",\"p\"]\n",
    "text = [element.text.replace('\\n',' ').strip() for element in soup.find_all(tag)]\n",
    "listofnames = [text[i]+\" (@\"+text[i+1]+\")\" for i in range(2, len(text), 3)] \n",
    "listofnames"
   ]
  },
  {
   "cell_type": "markdown",
   "metadata": {
    "id": "Z5OLJnPYHxlM"
   },
   "source": [
    "#### Display the trending Python repositories in GitHub\n",
    "\n",
    "The steps to solve this problem is similar to the previous one except that you need to find out the repository names instead of developer names."
   ]
  },
  {
   "cell_type": "code",
   "execution_count": 8,
   "metadata": {
    "colab": {
     "base_uri": "https://localhost:8080/"
    },
    "id": "aamyoYnBHxlN",
    "outputId": "9573ce88-f037-49d6-a9ab-7107c6619c24"
   },
   "outputs": [
    {
     "data": {
      "text/plain": [
       "['paperswithcode/galai',\n",
       " 'raminmh/CfC',\n",
       " 'Asabeneh/30-Days-Of-Python',\n",
       " 'onnx/onnx',\n",
       " 'FlagAI-Open/FlagAI',\n",
       " 'geohot/tinygrad',\n",
       " 'sqlmapproject/sqlmap',\n",
       " 'mli/autocut',\n",
       " 'trekhleb/learn-python',\n",
       " 'testanull/ProxyNotShell-PoC',\n",
       " 'Visualize-ML/Book3_Fundamentals-of-Mathematics',\n",
       " 'Gioman101/FlipperAmiibo',\n",
       " 'Visualize-ML/Book4_Power-of-Matrix',\n",
       " 'babysor/MockingBird',\n",
       " 'TheAlgorithms/Python',\n",
       " 'zjc062/mind-vis',\n",
       " 'adamian98/pulse',\n",
       " 'thebaselab/codeapp',\n",
       " 'microsoft/pyright',\n",
       " 'aws/aws-sam-cli',\n",
       " 'thunil/TecoGAN',\n",
       " 'limoruirui/misaka',\n",
       " 'mikf/gallery-dl',\n",
       " 'SHI-Labs/Versatile-Diffusion',\n",
       " 'open-mmlab/mmdeploy']"
      ]
     },
     "execution_count": 8,
     "metadata": {},
     "output_type": "execute_result"
    }
   ],
   "source": [
    "url = 'https://github.com/trending/python?since=daily'\n",
    "html = requests.get(url).content\n",
    "trep_soup = BeautifulSoup(html)\n",
    "reps = trep_soup.find_all('h1',{'class':'h3 lh-condensed'})\n",
    "repos = [rep.a['href'].strip('/') for rep in reps]\n",
    "repos"
   ]
  },
  {
   "cell_type": "markdown",
   "metadata": {
    "id": "Um5ajR1GHxlO"
   },
   "source": [
    "#### Display all the image links from Walt Disney wikipedia page"
   ]
  },
  {
   "cell_type": "code",
   "execution_count": 9,
   "metadata": {
    "colab": {
     "base_uri": "https://localhost:8080/"
    },
    "id": "My8clgLSHxlO",
    "outputId": "a0ee0f67-3593-4314-de0a-af5a3a95de50"
   },
   "outputs": [
    {
     "data": {
      "text/plain": [
       "['https://upload.wikimedia.org/wikipedia/commons/thumb/d/df/Walt_Disney_1946.JPG/220px-Walt_Disney_1946.JPG',\n",
       " 'https://upload.wikimedia.org/wikipedia/commons/thumb/8/87/Walt_Disney_1942_signature.svg/150px-Walt_Disney_1942_signature.svg.png',\n",
       " 'https://upload.wikimedia.org/wikipedia/commons/thumb/3/3a/Walt_Disney_Birthplace_Exterior_Hermosa_Chicago_Illinois.jpg/220px-Walt_Disney_Birthplace_Exterior_Hermosa_Chicago_Illinois.jpg',\n",
       " 'https://upload.wikimedia.org/wikipedia/commons/thumb/c/c4/Walt_Disney_envelope_ca._1921.jpg/220px-Walt_Disney_envelope_ca._1921.jpg',\n",
       " 'https://upload.wikimedia.org/wikipedia/commons/thumb/0/0d/Trolley_Troubles_poster.jpg/170px-Trolley_Troubles_poster.jpg',\n",
       " 'https://upload.wikimedia.org/wikipedia/en/thumb/4/4e/Steamboat-willie.jpg/170px-Steamboat-willie.jpg',\n",
       " 'https://upload.wikimedia.org/wikipedia/commons/thumb/5/57/Walt_Disney_1935.jpg/170px-Walt_Disney_1935.jpg',\n",
       " 'https://upload.wikimedia.org/wikipedia/commons/thumb/c/cd/Walt_Disney_Snow_white_1937_trailer_screenshot_%2813%29.jpg/220px-Walt_Disney_Snow_white_1937_trailer_screenshot_%2813%29.jpg',\n",
       " 'https://upload.wikimedia.org/wikipedia/commons/thumb/1/15/Disney_drawing_goofy.jpg/170px-Disney_drawing_goofy.jpg',\n",
       " 'https://upload.wikimedia.org/wikipedia/commons/thumb/8/8c/WaltDisneyplansDisneylandDec1954.jpg/220px-WaltDisneyplansDisneylandDec1954.jpg',\n",
       " 'https://upload.wikimedia.org/wikipedia/commons/thumb/f/ff/Walt_disney_portrait_right.jpg/170px-Walt_disney_portrait_right.jpg',\n",
       " 'https://upload.wikimedia.org/wikipedia/commons/thumb/1/1a/Walt_Disney_Grave.JPG/170px-Walt_Disney_Grave.JPG',\n",
       " 'https://upload.wikimedia.org/wikipedia/commons/thumb/2/2d/Roy_O._Disney_with_Company_at_Press_Conference.jpg/170px-Roy_O._Disney_with_Company_at_Press_Conference.jpg',\n",
       " 'https://upload.wikimedia.org/wikipedia/commons/thumb/1/13/DisneySchiphol1951.jpg/220px-DisneySchiphol1951.jpg',\n",
       " 'https://upload.wikimedia.org/wikipedia/commons/thumb/6/6c/Disney1968.jpg/170px-Disney1968.jpg',\n",
       " 'https://upload.wikimedia.org/wikipedia/commons/thumb/b/b0/Disney_Oscar_1953_%28cropped%29.jpg/170px-Disney_Oscar_1953_%28cropped%29.jpg',\n",
       " 'https://upload.wikimedia.org/wikipedia/commons/thumb/e/e3/Disneyland_Resort_logo.svg/135px-Disneyland_Resort_logo.svg.png',\n",
       " 'https://upload.wikimedia.org/wikipedia/commons/thumb/d/da/Animation_disc.svg/20px-Animation_disc.svg.png',\n",
       " 'https://upload.wikimedia.org/wikipedia/commons/thumb/1/1a/Magic_Kingdom_castle.jpg/15px-Magic_Kingdom_castle.jpg',\n",
       " 'https://upload.wikimedia.org/wikipedia/commons/thumb/8/8c/Blank_television_set.svg/21px-Blank_television_set.svg.png']"
      ]
     },
     "execution_count": 9,
     "metadata": {},
     "output_type": "execute_result"
    }
   ],
   "source": [
    "url = 'https://en.wikipedia.org/wiki/Walt_Disney'\n",
    "html = requests.get(url).content\n",
    "wdimg_soup = BeautifulSoup(html)\n",
    "imgs = wdimg_soup.find_all('a',{'class':'image'})\n",
    "images = ['https:' + img.img['src'] for img in imgs]\n",
    "images"
   ]
  },
  {
   "cell_type": "markdown",
   "metadata": {
    "id": "9N4Uc6WfHxlP"
   },
   "source": [
    "#### Retrieve an arbitary Wikipedia page of \"Python\" and create a list of links on that page"
   ]
  },
  {
   "cell_type": "code",
   "execution_count": null,
   "metadata": {
    "colab": {
     "base_uri": "https://localhost:8080/"
    },
    "id": "aMTJSEK4HxlQ",
    "outputId": "e151142d-f5ff-45dc-ca83-ce9d408ec8b9"
   },
   "outputs": [
    {
     "name": "stdout",
     "output_type": "stream",
     "text": [
      "131\n"
     ]
    },
    {
     "data": {
      "text/plain": [
       "['https://en.wikipedia.org/wiki/Python#Snakes',\n",
       " 'https://en.wikipedia.org/wiki/Python#Computing',\n",
       " 'https://en.wikipedia.org/wiki/Python#People',\n",
       " 'https://en.wikipedia.org/wiki/Python#Roller_coasters',\n",
       " 'https://en.wikipedia.org/wiki/Python#Vehicles',\n",
       " 'https://en.wikipedia.org/wiki/Python#Weaponry',\n",
       " 'https://en.wikipedia.org/wiki/Python#Other_uses',\n",
       " 'https://en.wikipedia.org/wiki/Python#See_also',\n",
       " 'https://en.wikipedia.org/wiki/Pythonidae',\n",
       " 'https://en.wikipedia.org/wiki/Python_(genus)']"
      ]
     },
     "execution_count": 8,
     "metadata": {},
     "output_type": "execute_result"
    }
   ],
   "source": [
    "url ='https://en.wikipedia.org/wiki/Python' \n",
    "html = requests.get(url).content\n",
    "wpy_soup = BeautifulSoup(html)\n",
    "lks = wpy_soup.find_all('li')\n",
    "links = [lk.a['href'] for lk in lks if lk.a != None]\n",
    "\n",
    "# Sí la referencia es interna, se completa el link y en caso de no contar con el https se añade\n",
    "fixed_links = [url+link if link.startswith('#')\n",
    "             else 'https://en.wikipedia.org'+ link if link.startswith('/wiki') \n",
    "             else 'https:'+ link if not link.startswith('https')\n",
    "             else link for link in links]\n",
    "             \n",
    "print(len(fixed_links))\n",
    "fixed_links[:10]"
   ]
  },
  {
   "cell_type": "markdown",
   "metadata": {
    "id": "8aW20EhUHxlQ",
    "tags": []
   },
   "source": [
    "#### Number of Titles that have changed in the United States Code since its last release point "
   ]
  },
  {
   "cell_type": "code",
   "execution_count": 12,
   "metadata": {
    "colab": {
     "base_uri": "https://localhost:8080/"
    },
    "id": "_OYc7ppPHxlR",
    "outputId": "ff6463ab-bf92-426d-fe88-875cbe1b4cda"
   },
   "outputs": [
    {
     "name": "stdout",
     "output_type": "stream",
     "text": [
      "Number of titles: 9\n",
      "Title list: ['17', '22', '38', '40', '41', '42', '44', '49', '54']\n"
     ]
    }
   ],
   "source": [
    "url = 'http://uscode.house.gov/download/download.shtml' \n",
    "html = requests.get(url,).content\n",
    "usc_soup = BeautifulSoup(html,\"lxml\") #Añadí el parser para evitar un WARNING\n",
    "\n",
    "chgd = usc_soup.find_all('div',{'class':\"usctitlechanged\"})\n",
    "changed = [x.text.replace('\\n','').strip() for x in chgd]\n",
    "\n",
    "num_titles = [re.findall('Title (\\d+)',title)[0] for title in changed]\n",
    "name_titles = [row.split('-')[1].replace('٭','').strip() for row in changed]\n",
    "print(f'Number of titles: {len(num_titles)}\\nTitle list: {num_titles}')\n",
    "# pd.DataFrame(index = num_titles, data = name_titles, columns = ['columnas'])"
   ]
  },
  {
   "cell_type": "markdown",
   "metadata": {
    "id": "BdaHO-p4HxlR",
    "tags": []
   },
   "source": [
    "#### A Python list with the top ten FBI's Most Wanted names "
   ]
  },
  {
   "cell_type": "code",
   "execution_count": 11,
   "metadata": {
    "colab": {
     "base_uri": "https://localhost:8080/"
    },
    "id": "wi9jt04-HxlS",
    "outputId": "f2632012-de9b-4c09-e336-e0f8ffa3f42d"
   },
   "outputs": [
    {
     "data": {
      "text/plain": [
       "['RUJA IGNATOVA',\n",
       " 'ARNOLDO JIMENEZ',\n",
       " 'OMAR ALEXANDER CARDENAS',\n",
       " 'ALEXIS FLORES',\n",
       " 'JOSE RODOLFO VILLARREAL-HERNANDEZ',\n",
       " 'YULAN ADONAY ARCHAGA CARIAS',\n",
       " 'BHADRESHKUMAR CHETANBHAI PATEL',\n",
       " 'ALEJANDRO ROSALES CASTILLO',\n",
       " 'MICHAEL JAMES PRATT',\n",
       " 'RAFAEL CARO-QUINTERO']"
      ]
     },
     "execution_count": 11,
     "metadata": {},
     "output_type": "execute_result"
    }
   ],
   "source": [
    "url = 'https://www.fbi.gov/wanted/topten'\n",
    "html = requests.get(url).content\n",
    "fbi_soup = BeautifulSoup(html)\n",
    "wanted = fbi_soup.find_all('h3',{'class':\"title\"})\n",
    "most_wanted = [top.text.strip('\\n') for top in wanted]\n",
    "most_wanted"
   ]
  },
  {
   "cell_type": "markdown",
   "metadata": {
    "id": "8SDgAH6-HxlS"
   },
   "source": [
    "#### 20 latest earthquakes info (date, time, latitude, longitude and region name) by the EMSC as a pandas dataframe"
   ]
  },
  {
   "cell_type": "code",
   "execution_count": 13,
   "metadata": {
    "colab": {
     "base_uri": "https://localhost:8080/",
     "height": 363
    },
    "id": "AVFA_GZ3HxlS",
    "outputId": "126a0fca-b0ae-4729-b99e-52e53346c70f"
   },
   "outputs": [
    {
     "data": {
      "text/html": [
       "<div>\n",
       "<style scoped>\n",
       "    .dataframe tbody tr th:only-of-type {\n",
       "        vertical-align: middle;\n",
       "    }\n",
       "\n",
       "    .dataframe tbody tr th {\n",
       "        vertical-align: top;\n",
       "    }\n",
       "\n",
       "    .dataframe thead th {\n",
       "        text-align: right;\n",
       "    }\n",
       "</style>\n",
       "<table border=\"1\" class=\"dataframe\">\n",
       "  <thead>\n",
       "    <tr style=\"text-align: right;\">\n",
       "      <th></th>\n",
       "      <th>Date</th>\n",
       "      <th>Time</th>\n",
       "      <th>Latitude</th>\n",
       "      <th>Longitude</th>\n",
       "      <th>Region</th>\n",
       "    </tr>\n",
       "  </thead>\n",
       "  <tbody>\n",
       "    <tr>\n",
       "      <th>0</th>\n",
       "      <td>2022-11-19</td>\n",
       "      <td>16:01:17.0</td>\n",
       "      <td>33.96</td>\n",
       "      <td>125.22</td>\n",
       "      <td>YELLOW SEA</td>\n",
       "    </tr>\n",
       "    <tr>\n",
       "      <th>1</th>\n",
       "      <td>2022-11-19</td>\n",
       "      <td>15:42:49.0</td>\n",
       "      <td>11.95</td>\n",
       "      <td>86.58</td>\n",
       "      <td>NEAR COAST OF NICARAGUA</td>\n",
       "    </tr>\n",
       "    <tr>\n",
       "      <th>2</th>\n",
       "      <td>2022-11-19</td>\n",
       "      <td>15:41:40.2</td>\n",
       "      <td>46.85</td>\n",
       "      <td>7.41</td>\n",
       "      <td>SWITZERLAND</td>\n",
       "    </tr>\n",
       "    <tr>\n",
       "      <th>3</th>\n",
       "      <td>2022-11-19</td>\n",
       "      <td>15:32:39.0</td>\n",
       "      <td>40.26</td>\n",
       "      <td>176.67</td>\n",
       "      <td>NORTH ISLAND OF NEW ZEALAND</td>\n",
       "    </tr>\n",
       "    <tr>\n",
       "      <th>4</th>\n",
       "      <td>2022-11-19</td>\n",
       "      <td>15:29:51.0</td>\n",
       "      <td>22.44</td>\n",
       "      <td>68.78</td>\n",
       "      <td>ANTOFAGASTA, CHILE</td>\n",
       "    </tr>\n",
       "    <tr>\n",
       "      <th>5</th>\n",
       "      <td>2022-11-19</td>\n",
       "      <td>15:27:16.0</td>\n",
       "      <td>19.30</td>\n",
       "      <td>68.75</td>\n",
       "      <td>TARAPACA, CHILE</td>\n",
       "    </tr>\n",
       "    <tr>\n",
       "      <th>6</th>\n",
       "      <td>2022-11-19</td>\n",
       "      <td>15:23:40.0</td>\n",
       "      <td>9.95</td>\n",
       "      <td>121.72</td>\n",
       "      <td>SULU SEA</td>\n",
       "    </tr>\n",
       "    <tr>\n",
       "      <th>7</th>\n",
       "      <td>2022-11-19</td>\n",
       "      <td>15:10:53.0</td>\n",
       "      <td>7.86</td>\n",
       "      <td>117.33</td>\n",
       "      <td>BALI SEA</td>\n",
       "    </tr>\n",
       "    <tr>\n",
       "      <th>8</th>\n",
       "      <td>2022-11-19</td>\n",
       "      <td>15:05:35.8</td>\n",
       "      <td>44.60</td>\n",
       "      <td>6.93</td>\n",
       "      <td>FRANCE</td>\n",
       "    </tr>\n",
       "    <tr>\n",
       "      <th>9</th>\n",
       "      <td>2022-11-19</td>\n",
       "      <td>14:54:17.5</td>\n",
       "      <td>40.31</td>\n",
       "      <td>176.67</td>\n",
       "      <td>NORTH ISLAND OF NEW ZEALAND</td>\n",
       "    </tr>\n",
       "  </tbody>\n",
       "</table>\n",
       "</div>"
      ],
      "text/plain": [
       "         Date        Time Latitude Longitude                        Region\n",
       "0  2022-11-19  16:01:17.0    33.96    125.22                    YELLOW SEA\n",
       "1  2022-11-19  15:42:49.0    11.95     86.58       NEAR COAST OF NICARAGUA\n",
       "2  2022-11-19  15:41:40.2    46.85      7.41                   SWITZERLAND\n",
       "3  2022-11-19  15:32:39.0    40.26    176.67   NORTH ISLAND OF NEW ZEALAND\n",
       "4  2022-11-19  15:29:51.0    22.44     68.78            ANTOFAGASTA, CHILE\n",
       "5  2022-11-19  15:27:16.0    19.30     68.75               TARAPACA, CHILE\n",
       "6  2022-11-19  15:23:40.0     9.95    121.72                      SULU SEA\n",
       "7  2022-11-19  15:10:53.0     7.86    117.33                      BALI SEA\n",
       "8  2022-11-19  15:05:35.8    44.60      6.93                        FRANCE\n",
       "9  2022-11-19  14:54:17.5    40.31    176.67   NORTH ISLAND OF NEW ZEALAND"
      ]
     },
     "execution_count": 13,
     "metadata": {},
     "output_type": "execute_result"
    }
   ],
   "source": [
    "url = 'https://www.emsc-csem.org/Earthquake/'\n",
    "html=requests.get(url).content\n",
    "soup = BeautifulSoup(html, 'html')\n",
    "\n",
    "soupdate = [i.text for i in soup.find_all('a', href = True)]\n",
    "date=[j[0:10] for j in soupdate if j[0:4] == \"2022\"]\n",
    "time=[j[-10:] for j in soupdate if j[0:4] == \"2022\"]\n",
    "\n",
    "souplace = [i.text for i in soup.find_all('td', class_ = \"tabev1\")]\n",
    "latitude = [souplace[i].replace('\\xa0','') for i in range(0,len(souplace),2)]\n",
    "longitude = [souplace[i].replace('\\xa0','') for i in range(1,len(souplace),2)]\n",
    "\n",
    "region = [i.text for i in soup.find_all('td',class_='tb_region')]\n",
    "df = pd.DataFrame(list(zip(date,time,latitude,longitude,region)), columns=['Date','Time','Latitude','Longitude','Region'])\n",
    "df.head(10)"
   ]
  },
  {
   "cell_type": "markdown",
   "metadata": {
    "id": "_t_wvoJKHxlT"
   },
   "source": [
    "#### Display the date, days, title, city, country of next 25 hackathon events as a Pandas dataframe table"
   ]
  },
  {
   "cell_type": "code",
   "execution_count": 14,
   "metadata": {
    "colab": {
     "base_uri": "https://localhost:8080/",
     "height": 206
    },
    "id": "4Fy6I1B_HxlT",
    "outputId": "cd7d6d3b-0c49-4b3e-8161-f23618bf7da1"
   },
   "outputs": [
    {
     "data": {
      "text/html": [
       "<div>\n",
       "<style scoped>\n",
       "    .dataframe tbody tr th:only-of-type {\n",
       "        vertical-align: middle;\n",
       "    }\n",
       "\n",
       "    .dataframe tbody tr th {\n",
       "        vertical-align: top;\n",
       "    }\n",
       "\n",
       "    .dataframe thead th {\n",
       "        text-align: right;\n",
       "    }\n",
       "</style>\n",
       "<table border=\"1\" class=\"dataframe\">\n",
       "  <thead>\n",
       "    <tr style=\"text-align: right;\">\n",
       "      <th></th>\n",
       "      <th>title</th>\n",
       "      <th>date</th>\n",
       "      <th>city</th>\n",
       "      <th>country/state</th>\n",
       "      <th>format</th>\n",
       "    </tr>\n",
       "  </thead>\n",
       "  <tbody>\n",
       "    <tr>\n",
       "      <th>0</th>\n",
       "      <td>HackMTY</td>\n",
       "      <td>Aug 24th - 25th</td>\n",
       "      <td>Monterrey</td>\n",
       "      <td>MX</td>\n",
       "      <td>In-Person Only</td>\n",
       "    </tr>\n",
       "    <tr>\n",
       "      <th>1</th>\n",
       "      <td>Citizen Hacks</td>\n",
       "      <td>Sep 6th - 8th</td>\n",
       "      <td>Toronto</td>\n",
       "      <td>ON</td>\n",
       "      <td>In-Person Only</td>\n",
       "    </tr>\n",
       "    <tr>\n",
       "      <th>2</th>\n",
       "      <td>PennApps</td>\n",
       "      <td>Sep 6th - 8th</td>\n",
       "      <td>Philadelphia</td>\n",
       "      <td>PA</td>\n",
       "      <td>In-Person Only</td>\n",
       "    </tr>\n",
       "    <tr>\n",
       "      <th>3</th>\n",
       "      <td>Hackathon de Futuras Tecnologías</td>\n",
       "      <td>Sep 7th - 8th</td>\n",
       "      <td>Torreón</td>\n",
       "      <td>MX</td>\n",
       "      <td>In-Person Only</td>\n",
       "    </tr>\n",
       "    <tr>\n",
       "      <th>4</th>\n",
       "      <td>Hack the North</td>\n",
       "      <td>Sep 13th - 15th</td>\n",
       "      <td>Waterloo</td>\n",
       "      <td>ON</td>\n",
       "      <td>In-Person Only</td>\n",
       "    </tr>\n",
       "  </tbody>\n",
       "</table>\n",
       "</div>"
      ],
      "text/plain": [
       "                               title                     date          city  \\\n",
       "0                            HackMTY  Aug 24th - 25th             Monterrey   \n",
       "1                      Citizen Hacks    Sep 6th - 8th               Toronto   \n",
       "2                           PennApps    Sep 6th - 8th          Philadelphia   \n",
       "3  Hackathon de Futuras Tecnologías     Sep 7th - 8th               Torreón   \n",
       "4                     Hack the North  Sep 13th - 15th              Waterloo   \n",
       "\n",
       "  country/state          format  \n",
       "0            MX  In-Person Only  \n",
       "1            ON  In-Person Only  \n",
       "2            PA  In-Person Only  \n",
       "3            MX  In-Person Only  \n",
       "4            ON  In-Person Only  "
      ]
     },
     "execution_count": 14,
     "metadata": {},
     "output_type": "execute_result"
    }
   ],
   "source": [
    "url = 'https://www.mlh.io/seasons/na-2020/events'\n",
    "html = requests.get(url).content\n",
    "hck_soup = BeautifulSoup(html)\n",
    "\n",
    "events = hck_soup.find_all('div',{'class':'event'})\n",
    "events = [re.sub('[\\s\\S]*DIGITAL','',event.text) for event in events]\n",
    "events = [re.sub('HIGH SCHOOL','',event) for event in events]\n",
    "events = [re.sub(',','',event) for event in events]\n",
    "data = [re.sub('\\n+ *','\\n',event).strip('\\n').split('\\n') for event in events]\n",
    "colnames = ['title','date','city','country/state', 'format']\n",
    "df_hack = pd.DataFrame(data, columns = colnames)\n",
    "df_hack.head()"
   ]
  },
  {
   "cell_type": "markdown",
   "metadata": {
    "id": "W4MLDi7-HxlT"
   },
   "source": [
    "#### Count number of tweets by a given Twitter account."
   ]
  },
  {
   "cell_type": "markdown",
   "metadata": {
    "id": "BxBPhlVJHxlU"
   },
   "source": [
    "You will need to include a ***try/except block*** for account names not found. \n",
    "<br>***Hint:*** the program should count the number of tweets for any provided account"
   ]
  },
  {
   "cell_type": "code",
   "execution_count": 15,
   "metadata": {
    "id": "w8Mlz4GKHxlU"
   },
   "outputs": [],
   "source": [
    "from selenium import webdriver\n",
    "from selenium.webdriver.common.keys import Keys\n",
    "import time"
   ]
  },
  {
   "cell_type": "code",
   "execution_count": 21,
   "metadata": {
    "id": "4_cWtwmpHxlU",
    "outputId": "17eed1ac-ff2d-4dfb-81a6-ea5f50745dda",
    "tags": []
   },
   "outputs": [
    {
     "name": "stdin",
     "output_type": "stream",
     "text": [
      " BarackObama\n"
     ]
    },
    {
     "name": "stdout",
     "output_type": "stream",
     "text": [
      "User BarackObama got 16,6 mil Tweets\n"
     ]
    }
   ],
   "source": [
    "# This is the url you will scrape in this exercise \n",
    "# You will need to add the account credentials to this url\n",
    "\n",
    "user = input()\n",
    "url = f'https://twitter.com/{user}'\n",
    "driver = webdriver.Chrome()\n",
    "\n",
    "try:\n",
    "    driver.get(url)\n",
    "    time.sleep(2)\n",
    "    html_source = driver.page_source\n",
    "    soup = BeautifulSoup(html_source, 'html.parser')\n",
    "    tweets = soup.select(\"div [class = 'css-1dbjc4n r-1habvwh'] > div[dir='auto']\")\n",
    "    num_tweets = tweets[0].text.replace(\"\\xa0\",' ')\n",
    "    driver.quit()\n",
    "    print(f'User {user} got {num_tweets}')\n",
    "    \n",
    "except:\n",
    "    print('User invalid, try again.')\n",
    "    driver.quit()\n"
   ]
  },
  {
   "cell_type": "code",
   "execution_count": 23,
   "metadata": {
    "id": "ADMB8mbaHxlV",
    "outputId": "02e6a3a5-5356-4038-ea05-bd277c49c088"
   },
   "outputs": [
    {
     "name": "stdin",
     "output_type": "stream",
     "text": [
      " diuidssdibdsbsial\n"
     ]
    },
    {
     "name": "stdout",
     "output_type": "stream",
     "text": [
      "User invalid, try again.\n"
     ]
    }
   ],
   "source": [
    "user = input()\n",
    "url = f'https://twitter.com/{user}'\n",
    "driver = webdriver.Chrome()\n",
    "\n",
    "try:\n",
    "    driver.get(url)\n",
    "    time.sleep(2)\n",
    "    html_source = driver.page_source\n",
    "    soup = BeautifulSoup(html_source, 'html.parser')\n",
    "    tweets = soup.select(\"div [class = 'css-1dbjc4n r-1habvwh'] > div[dir='auto']\")\n",
    "    num_tweets = tweets[0].text.replace(\"\\xa0\",' ')\n",
    "    driver.quit()\n",
    "    print(f'User {user} got {num_tweets}')\n",
    "    \n",
    "except:\n",
    "    print('User invalid, try again.')\n",
    "    driver.quit()"
   ]
  },
  {
   "cell_type": "markdown",
   "metadata": {
    "id": "2QFRVefbHxlV"
   },
   "source": [
    "#### Number of followers of a given twitter account"
   ]
  },
  {
   "cell_type": "markdown",
   "metadata": {
    "id": "JFGbMWHLHxlW"
   },
   "source": [
    "You will need to include a ***try/except block*** in case account/s name not found. \n",
    "<br>***Hint:*** the program should count the followers for any provided account"
   ]
  },
  {
   "cell_type": "code",
   "execution_count": null,
   "metadata": {
    "id": "Tk2D3eMxHxlW",
    "outputId": "43c605cd-1dbb-4d66-8608-406f102184e7"
   },
   "outputs": [
    {
     "name": "stdin",
     "output_type": "stream",
     "text": [
      " BarackObama\n"
     ]
    },
    {
     "name": "stdout",
     "output_type": "stream",
     "text": [
      "User BarackObama got 130,3 M followers\n"
     ]
    }
   ],
   "source": [
    "user = input()\n",
    "url = f'https://twitter.com/{user}'\n",
    "driver = webdriver.Chrome()\n",
    "\n",
    "try:\n",
    "    driver.get(url)\n",
    "    time.sleep(2)\n",
    "    html_source = driver.page_source\n",
    "    soup = BeautifulSoup(html_source, 'html.parser')\n",
    "    follow = soup.select(f\"a[href = '/{user}/followers']\")\n",
    "    followers = follow[0].text.replace(\"\\xa0\",' ').replace('Seguidores','followers')\n",
    "    driver.quit()\n",
    "    print(f'User: {user} got {followers}')\n",
    "    \n",
    "except:\n",
    "    print('User invalid, try again.')\n",
    "    driver.quit()"
   ]
  },
  {
   "cell_type": "markdown",
   "metadata": {
    "id": "DMnMniRXHxlX"
   },
   "source": [
    "#### List all language names and number of related articles in the order they appear in wikipedia.org"
   ]
  },
  {
   "cell_type": "code",
   "execution_count": null,
   "metadata": {
    "id": "zMFoTaPjHxlX"
   },
   "outputs": [],
   "source": [
    "# This is the url you will scrape in this exercise\n",
    "url = 'https://www.wikipedia.org/'\n",
    "html = requests.get(url).content\n",
    "soup = BeautifulSoup(html, 'html')"
   ]
  },
  {
   "cell_type": "code",
   "execution_count": null,
   "metadata": {
    "colab": {
     "base_uri": "https://localhost:8080/",
     "height": 363
    },
    "id": "DS0B-frmHxlX",
    "outputId": "a70bef0d-a248-4514-887b-7d065466beff"
   },
   "outputs": [
    {
     "data": {
      "text/html": [
       "\n",
       "  <div id=\"df-0d02153b-ffc8-46d7-8291-eefb61045710\">\n",
       "    <div class=\"colab-df-container\">\n",
       "      <div>\n",
       "<style scoped>\n",
       "    .dataframe tbody tr th:only-of-type {\n",
       "        vertical-align: middle;\n",
       "    }\n",
       "\n",
       "    .dataframe tbody tr th {\n",
       "        vertical-align: top;\n",
       "    }\n",
       "\n",
       "    .dataframe thead th {\n",
       "        text-align: right;\n",
       "    }\n",
       "</style>\n",
       "<table border=\"1\" class=\"dataframe\">\n",
       "  <thead>\n",
       "    <tr style=\"text-align: right;\">\n",
       "      <th></th>\n",
       "      <th>Languages</th>\n",
       "      <th>No. Articles</th>\n",
       "    </tr>\n",
       "  </thead>\n",
       "  <tbody>\n",
       "    <tr>\n",
       "      <th>0</th>\n",
       "      <td>English</td>\n",
       "      <td>6458000</td>\n",
       "    </tr>\n",
       "    <tr>\n",
       "      <th>1</th>\n",
       "      <td>日本語</td>\n",
       "      <td>1314000</td>\n",
       "    </tr>\n",
       "    <tr>\n",
       "      <th>2</th>\n",
       "      <td>Français</td>\n",
       "      <td>2400000</td>\n",
       "    </tr>\n",
       "    <tr>\n",
       "      <th>3</th>\n",
       "      <td>Español</td>\n",
       "      <td>1755000</td>\n",
       "    </tr>\n",
       "    <tr>\n",
       "      <th>4</th>\n",
       "      <td>Русский</td>\n",
       "      <td>1798000</td>\n",
       "    </tr>\n",
       "    <tr>\n",
       "      <th>5</th>\n",
       "      <td>Deutsch</td>\n",
       "      <td>2667000</td>\n",
       "    </tr>\n",
       "    <tr>\n",
       "      <th>6</th>\n",
       "      <td>Italiano</td>\n",
       "      <td>1742000</td>\n",
       "    </tr>\n",
       "    <tr>\n",
       "      <th>7</th>\n",
       "      <td>中文</td>\n",
       "      <td>1256000</td>\n",
       "    </tr>\n",
       "    <tr>\n",
       "      <th>8</th>\n",
       "      <td>فارسی</td>\n",
       "      <td>866000</td>\n",
       "    </tr>\n",
       "    <tr>\n",
       "      <th>9</th>\n",
       "      <td>Português</td>\n",
       "      <td>1085000</td>\n",
       "    </tr>\n",
       "  </tbody>\n",
       "</table>\n",
       "</div>\n",
       "      <button class=\"colab-df-convert\" onclick=\"convertToInteractive('df-0d02153b-ffc8-46d7-8291-eefb61045710')\"\n",
       "              title=\"Convert this dataframe to an interactive table.\"\n",
       "              style=\"display:none;\">\n",
       "        \n",
       "  <svg xmlns=\"http://www.w3.org/2000/svg\" height=\"24px\"viewBox=\"0 0 24 24\"\n",
       "       width=\"24px\">\n",
       "    <path d=\"M0 0h24v24H0V0z\" fill=\"none\"/>\n",
       "    <path d=\"M18.56 5.44l.94 2.06.94-2.06 2.06-.94-2.06-.94-.94-2.06-.94 2.06-2.06.94zm-11 1L8.5 8.5l.94-2.06 2.06-.94-2.06-.94L8.5 2.5l-.94 2.06-2.06.94zm10 10l.94 2.06.94-2.06 2.06-.94-2.06-.94-.94-2.06-.94 2.06-2.06.94z\"/><path d=\"M17.41 7.96l-1.37-1.37c-.4-.4-.92-.59-1.43-.59-.52 0-1.04.2-1.43.59L10.3 9.45l-7.72 7.72c-.78.78-.78 2.05 0 2.83L4 21.41c.39.39.9.59 1.41.59.51 0 1.02-.2 1.41-.59l7.78-7.78 2.81-2.81c.8-.78.8-2.07 0-2.86zM5.41 20L4 18.59l7.72-7.72 1.47 1.35L5.41 20z\"/>\n",
       "  </svg>\n",
       "      </button>\n",
       "      \n",
       "  <style>\n",
       "    .colab-df-container {\n",
       "      display:flex;\n",
       "      flex-wrap:wrap;\n",
       "      gap: 12px;\n",
       "    }\n",
       "\n",
       "    .colab-df-convert {\n",
       "      background-color: #E8F0FE;\n",
       "      border: none;\n",
       "      border-radius: 50%;\n",
       "      cursor: pointer;\n",
       "      display: none;\n",
       "      fill: #1967D2;\n",
       "      height: 32px;\n",
       "      padding: 0 0 0 0;\n",
       "      width: 32px;\n",
       "    }\n",
       "\n",
       "    .colab-df-convert:hover {\n",
       "      background-color: #E2EBFA;\n",
       "      box-shadow: 0px 1px 2px rgba(60, 64, 67, 0.3), 0px 1px 3px 1px rgba(60, 64, 67, 0.15);\n",
       "      fill: #174EA6;\n",
       "    }\n",
       "\n",
       "    [theme=dark] .colab-df-convert {\n",
       "      background-color: #3B4455;\n",
       "      fill: #D2E3FC;\n",
       "    }\n",
       "\n",
       "    [theme=dark] .colab-df-convert:hover {\n",
       "      background-color: #434B5C;\n",
       "      box-shadow: 0px 1px 3px 1px rgba(0, 0, 0, 0.15);\n",
       "      filter: drop-shadow(0px 1px 2px rgba(0, 0, 0, 0.3));\n",
       "      fill: #FFFFFF;\n",
       "    }\n",
       "  </style>\n",
       "\n",
       "      <script>\n",
       "        const buttonEl =\n",
       "          document.querySelector('#df-0d02153b-ffc8-46d7-8291-eefb61045710 button.colab-df-convert');\n",
       "        buttonEl.style.display =\n",
       "          google.colab.kernel.accessAllowed ? 'block' : 'none';\n",
       "\n",
       "        async function convertToInteractive(key) {\n",
       "          const element = document.querySelector('#df-0d02153b-ffc8-46d7-8291-eefb61045710');\n",
       "          const dataTable =\n",
       "            await google.colab.kernel.invokeFunction('convertToInteractive',\n",
       "                                                     [key], {});\n",
       "          if (!dataTable) return;\n",
       "\n",
       "          const docLinkHtml = 'Like what you see? Visit the ' +\n",
       "            '<a target=\"_blank\" href=https://colab.research.google.com/notebooks/data_table.ipynb>data table notebook</a>'\n",
       "            + ' to learn more about interactive tables.';\n",
       "          element.innerHTML = '';\n",
       "          dataTable['output_type'] = 'display_data';\n",
       "          await google.colab.output.renderOutput(dataTable, element);\n",
       "          const docLink = document.createElement('div');\n",
       "          docLink.innerHTML = docLinkHtml;\n",
       "          element.appendChild(docLink);\n",
       "        }\n",
       "      </script>\n",
       "    </div>\n",
       "  </div>\n",
       "  "
      ],
      "text/plain": [
       "   Languages No. Articles\n",
       "0    English      6458000\n",
       "1        日本語      1314000\n",
       "2   Français      2400000\n",
       "3    Español      1755000\n",
       "4    Русский      1798000\n",
       "5    Deutsch      2667000\n",
       "6   Italiano      1742000\n",
       "7         中文      1256000\n",
       "8      فارسی       866000\n",
       "9  Português      1085000"
      ]
     },
     "execution_count": 14,
     "metadata": {},
     "output_type": "execute_result"
    }
   ],
   "source": [
    "lenguages = [i.text for i in soup.find_all('strong',class_ = False)]\n",
    "souparticles = [i.text.replace(u'\\xa0', '').replace('+','') for i in soup.find_all('bdi')]\n",
    "articles = souparticles[0:11]\n",
    "articles.pop(-3)\n",
    "df = pd.DataFrame(list(zip(lenguages, articles)), columns = ['Languages','No. Articles'])\n",
    "df"
   ]
  },
  {
   "cell_type": "markdown",
   "metadata": {
    "id": "gtbux8GHHxlY"
   },
   "source": [
    "#### A list with the different kind of datasets available in data.gov.uk "
   ]
  },
  {
   "cell_type": "code",
   "execution_count": 24,
   "metadata": {
    "id": "r6jIYm6hHxlY"
   },
   "outputs": [],
   "source": [
    "url = 'https://data.gov.uk/'\n",
    "html = requests.get(url).content\n",
    "soup = BeautifulSoup(html, 'html')"
   ]
  },
  {
   "cell_type": "code",
   "execution_count": 25,
   "metadata": {
    "colab": {
     "base_uri": "https://localhost:8080/"
    },
    "id": "IWtzqGmwHxlY",
    "outputId": "e938c05c-bf47-4900-e303-b6e8c7372f0a"
   },
   "outputs": [
    {
     "data": {
      "text/plain": [
       "['Business and economy',\n",
       " 'Crime and justice',\n",
       " 'Defence',\n",
       " 'Education',\n",
       " 'Environment',\n",
       " 'Government',\n",
       " 'Government spending',\n",
       " 'Health',\n",
       " 'Mapping',\n",
       " 'Society',\n",
       " 'Towns and cities',\n",
       " 'Transport',\n",
       " 'Digital service performance',\n",
       " 'Government reference data']"
      ]
     },
     "execution_count": 25,
     "metadata": {},
     "output_type": "execute_result"
    }
   ],
   "source": [
    "datasets = [i.text for i in soup.find_all('h3')]\n",
    "datasets"
   ]
  },
  {
   "cell_type": "markdown",
   "metadata": {
    "id": "PEiDT1MgHxlZ"
   },
   "source": [
    "#### Top 10 languages by number of native speakers stored in a Pandas Dataframe"
   ]
  },
  {
   "cell_type": "code",
   "execution_count": 26,
   "metadata": {
    "colab": {
     "base_uri": "https://localhost:8080/",
     "height": 363
    },
    "id": "morcDOyyHxlZ",
    "outputId": "c39646ed-d55d-46fc-94b3-8fcd91022698"
   },
   "outputs": [
    {
     "data": {
      "text/html": [
       "<div>\n",
       "<style scoped>\n",
       "    .dataframe tbody tr th:only-of-type {\n",
       "        vertical-align: middle;\n",
       "    }\n",
       "\n",
       "    .dataframe tbody tr th {\n",
       "        vertical-align: top;\n",
       "    }\n",
       "\n",
       "    .dataframe thead th {\n",
       "        text-align: right;\n",
       "    }\n",
       "</style>\n",
       "<table border=\"1\" class=\"dataframe\">\n",
       "  <thead>\n",
       "    <tr style=\"text-align: right;\">\n",
       "      <th></th>\n",
       "      <th>position</th>\n",
       "      <th>language</th>\n",
       "    </tr>\n",
       "  </thead>\n",
       "  <tbody>\n",
       "    <tr>\n",
       "      <th>0</th>\n",
       "      <td>1</td>\n",
       "      <td>Mandarin Chinese</td>\n",
       "    </tr>\n",
       "    <tr>\n",
       "      <th>1</th>\n",
       "      <td>2</td>\n",
       "      <td>Spanish</td>\n",
       "    </tr>\n",
       "    <tr>\n",
       "      <th>2</th>\n",
       "      <td>3</td>\n",
       "      <td>English</td>\n",
       "    </tr>\n",
       "    <tr>\n",
       "      <th>3</th>\n",
       "      <td>4</td>\n",
       "      <td>Hindi</td>\n",
       "    </tr>\n",
       "    <tr>\n",
       "      <th>4</th>\n",
       "      <td>5</td>\n",
       "      <td>Bengali</td>\n",
       "    </tr>\n",
       "    <tr>\n",
       "      <th>5</th>\n",
       "      <td>6</td>\n",
       "      <td>Portuguese</td>\n",
       "    </tr>\n",
       "    <tr>\n",
       "      <th>6</th>\n",
       "      <td>7</td>\n",
       "      <td>Russian</td>\n",
       "    </tr>\n",
       "    <tr>\n",
       "      <th>7</th>\n",
       "      <td>8</td>\n",
       "      <td>Japanese</td>\n",
       "    </tr>\n",
       "    <tr>\n",
       "      <th>8</th>\n",
       "      <td>9</td>\n",
       "      <td>Yue Chinese</td>\n",
       "    </tr>\n",
       "    <tr>\n",
       "      <th>9</th>\n",
       "      <td>10</td>\n",
       "      <td>Vietnamese</td>\n",
       "    </tr>\n",
       "  </tbody>\n",
       "</table>\n",
       "</div>"
      ],
      "text/plain": [
       "  position          language\n",
       "0        1  Mandarin Chinese\n",
       "1        2           Spanish\n",
       "2        3           English\n",
       "3        4             Hindi\n",
       "4        5           Bengali\n",
       "5        6        Portuguese\n",
       "6        7           Russian\n",
       "7        8          Japanese\n",
       "8        9       Yue Chinese\n",
       "9       10        Vietnamese"
      ]
     },
     "execution_count": 26,
     "metadata": {},
     "output_type": "execute_result"
    }
   ],
   "source": [
    "url = 'https://en.wikipedia.org/wiki/List_of_languages_by_number_of_native_speakers'\n",
    "html = requests.get(url).content\n",
    "top_lang_soup = BeautifulSoup(html)\n",
    "top_langs = top_lang_soup.find('table',{'class':'sortable'})\n",
    "rows = top_langs.find_all('tr')\n",
    "top_languages = [row.find('a').text for row in rows[1:]][:10]\n",
    "\n",
    "top_lan = pd.DataFrame((range(1,11),top_languages), index = ['position','language']).T\n",
    "top_lan"
   ]
  },
  {
   "cell_type": "markdown",
   "metadata": {
    "id": "QYadHbd9Hxla"
   },
   "source": [
    "### BONUS QUESTIONS"
   ]
  },
  {
   "cell_type": "markdown",
   "metadata": {
    "id": "9IdO0jBHHxla"
   },
   "source": [
    "#### Scrape a certain number of tweets of a given Twitter account."
   ]
  },
  {
   "cell_type": "code",
   "execution_count": null,
   "metadata": {},
   "outputs": [],
   "source": []
  },
  {
   "cell_type": "markdown",
   "metadata": {
    "id": "gjPKM8GmHxla"
   },
   "source": [
    "#### IMDB's Top 250 data (movie name, Initial release, director name and stars) as a pandas dataframe"
   ]
  },
  {
   "cell_type": "code",
   "execution_count": 27,
   "metadata": {
    "colab": {
     "base_uri": "https://localhost:8080/",
     "height": 206
    },
    "id": "A8aXmrYhHxlb",
    "outputId": "d3fb0148-a7fb-4f14-b464-ddc3a37b2146"
   },
   "outputs": [
    {
     "data": {
      "text/html": [
       "<div>\n",
       "<style scoped>\n",
       "    .dataframe tbody tr th:only-of-type {\n",
       "        vertical-align: middle;\n",
       "    }\n",
       "\n",
       "    .dataframe tbody tr th {\n",
       "        vertical-align: top;\n",
       "    }\n",
       "\n",
       "    .dataframe thead th {\n",
       "        text-align: right;\n",
       "    }\n",
       "</style>\n",
       "<table border=\"1\" class=\"dataframe\">\n",
       "  <thead>\n",
       "    <tr style=\"text-align: right;\">\n",
       "      <th></th>\n",
       "      <th>Movie</th>\n",
       "      <th>Release</th>\n",
       "      <th>Director</th>\n",
       "      <th>Stars</th>\n",
       "    </tr>\n",
       "  </thead>\n",
       "  <tbody>\n",
       "    <tr>\n",
       "      <th>0</th>\n",
       "      <td>Sueño de fuga</td>\n",
       "      <td>1994</td>\n",
       "      <td>Frank Darabont</td>\n",
       "      <td>9.2</td>\n",
       "    </tr>\n",
       "    <tr>\n",
       "      <th>1</th>\n",
       "      <td>El padrino</td>\n",
       "      <td>1972</td>\n",
       "      <td>Francis Ford Coppola</td>\n",
       "      <td>9.2</td>\n",
       "    </tr>\n",
       "    <tr>\n",
       "      <th>2</th>\n",
       "      <td>Batman: El caballero de la noche</td>\n",
       "      <td>2008</td>\n",
       "      <td>Christopher Nolan</td>\n",
       "      <td>9.0</td>\n",
       "    </tr>\n",
       "    <tr>\n",
       "      <th>3</th>\n",
       "      <td>El padrino II</td>\n",
       "      <td>1974</td>\n",
       "      <td>Francis Ford Coppola</td>\n",
       "      <td>9.0</td>\n",
       "    </tr>\n",
       "    <tr>\n",
       "      <th>4</th>\n",
       "      <td>12 hombres en pugna</td>\n",
       "      <td>1957</td>\n",
       "      <td>Sidney Lumet</td>\n",
       "      <td>9.0</td>\n",
       "    </tr>\n",
       "  </tbody>\n",
       "</table>\n",
       "</div>"
      ],
      "text/plain": [
       "                              Movie Release              Director Stars\n",
       "0                     Sueño de fuga    1994        Frank Darabont   9.2\n",
       "1                        El padrino    1972  Francis Ford Coppola   9.2\n",
       "2  Batman: El caballero de la noche    2008     Christopher Nolan   9.0\n",
       "3                     El padrino II    1974  Francis Ford Coppola   9.0\n",
       "4               12 hombres en pugna    1957          Sidney Lumet   9.0"
      ]
     },
     "execution_count": 27,
     "metadata": {},
     "output_type": "execute_result"
    }
   ],
   "source": [
    "# This is the url you will scrape in this exercise \n",
    "url = 'https://www.imdb.com/chart/top/'\n",
    "html = requests.get(url).content\n",
    "imdb_soup = BeautifulSoup(html)\n",
    "\n",
    "titles = [x.a.text for x in imdb_soup.select('.titleColumn')]\n",
    "links = ['https://www.imdb.com/' + x.a['href'] for x in imdb_soup.select('.titleColumn')]\n",
    "releases = [x.span.text.strip('[()]') for x in imdb_soup.select('.titleColumn')]\n",
    "directors = [re.findall('(.*) \\(dir.\\)', x.a['title'])[0] for x in imdb_soup.select('.titleColumn')]\n",
    "ratings = [x.text.strip('\\n') for x in imdb_soup.find_all('td',{'class':'ratingColumn imdbRating'})]\n",
    "imdb_df = pd.DataFrame(list(zip(titles,releases,directors,ratings)),columns=['Movie','Release','Director','Stars'])\n",
    "\n",
    "imdb_df.head()"
   ]
  },
  {
   "cell_type": "markdown",
   "metadata": {
    "id": "YcbBXvtaHxlb"
   },
   "source": [
    "#### Movie name, year and a brief summary of the top 10 random movies (IMDB) as a pandas dataframe."
   ]
  },
  {
   "cell_type": "code",
   "execution_count": 28,
   "metadata": {
    "colab": {
     "base_uri": "https://localhost:8080/",
     "height": 363
    },
    "id": "3HE0ArOuHxlb",
    "outputId": "8a8a4b41-1e7b-4da7-9752-bc25eb66b987"
   },
   "outputs": [
    {
     "data": {
      "text/html": [
       "<div>\n",
       "<style scoped>\n",
       "    .dataframe tbody tr th:only-of-type {\n",
       "        vertical-align: middle;\n",
       "    }\n",
       "\n",
       "    .dataframe tbody tr th {\n",
       "        vertical-align: top;\n",
       "    }\n",
       "\n",
       "    .dataframe thead th {\n",
       "        text-align: right;\n",
       "    }\n",
       "</style>\n",
       "<table border=\"1\" class=\"dataframe\">\n",
       "  <thead>\n",
       "    <tr style=\"text-align: right;\">\n",
       "      <th></th>\n",
       "      <th>No.</th>\n",
       "      <th>Movie</th>\n",
       "      <th>Release</th>\n",
       "      <th>Summary</th>\n",
       "    </tr>\n",
       "  </thead>\n",
       "  <tbody>\n",
       "    <tr>\n",
       "      <th>0</th>\n",
       "      <td>1</td>\n",
       "      <td>Sueño de fuga</td>\n",
       "      <td>1994</td>\n",
       "      <td>Two imprisoned men bond over a number of years...</td>\n",
       "    </tr>\n",
       "    <tr>\n",
       "      <th>1</th>\n",
       "      <td>2</td>\n",
       "      <td>El padrino</td>\n",
       "      <td>1972</td>\n",
       "      <td>The aging patriarch of an organized crime dyna...</td>\n",
       "    </tr>\n",
       "    <tr>\n",
       "      <th>2</th>\n",
       "      <td>3</td>\n",
       "      <td>Batman: El caballero de la noche</td>\n",
       "      <td>2008</td>\n",
       "      <td>When the menace known as the Joker wreaks havo...</td>\n",
       "    </tr>\n",
       "    <tr>\n",
       "      <th>3</th>\n",
       "      <td>4</td>\n",
       "      <td>El padrino II</td>\n",
       "      <td>1974</td>\n",
       "      <td>The early life and career of Vito Corleone in ...</td>\n",
       "    </tr>\n",
       "    <tr>\n",
       "      <th>4</th>\n",
       "      <td>5</td>\n",
       "      <td>12 hombres en pugna</td>\n",
       "      <td>1957</td>\n",
       "      <td>The jury in a New York City murder trial is fr...</td>\n",
       "    </tr>\n",
       "    <tr>\n",
       "      <th>5</th>\n",
       "      <td>6</td>\n",
       "      <td>La lista de Schindler</td>\n",
       "      <td>1993</td>\n",
       "      <td>In German-occupied Poland during World War II,...</td>\n",
       "    </tr>\n",
       "    <tr>\n",
       "      <th>6</th>\n",
       "      <td>7</td>\n",
       "      <td>El señor de los anillos: El retorno del rey</td>\n",
       "      <td>2003</td>\n",
       "      <td>Gandalf and Aragorn lead the World of Men agai...</td>\n",
       "    </tr>\n",
       "    <tr>\n",
       "      <th>7</th>\n",
       "      <td>8</td>\n",
       "      <td>Tiempos violentos</td>\n",
       "      <td>1994</td>\n",
       "      <td>The lives of two mob hitmen, a boxer, a gangst...</td>\n",
       "    </tr>\n",
       "    <tr>\n",
       "      <th>8</th>\n",
       "      <td>9</td>\n",
       "      <td>El señor de los anillos: La comunidad del anillo</td>\n",
       "      <td>2001</td>\n",
       "      <td>A meek Hobbit from the Shire and eight compani...</td>\n",
       "    </tr>\n",
       "    <tr>\n",
       "      <th>9</th>\n",
       "      <td>10</td>\n",
       "      <td>El bueno, el malo y el feo</td>\n",
       "      <td>1966</td>\n",
       "      <td>A bounty hunting scam joins two men in an unea...</td>\n",
       "    </tr>\n",
       "  </tbody>\n",
       "</table>\n",
       "</div>"
      ],
      "text/plain": [
       "   No.                                             Movie Release  \\\n",
       "0    1                                     Sueño de fuga    1994   \n",
       "1    2                                        El padrino    1972   \n",
       "2    3                  Batman: El caballero de la noche    2008   \n",
       "3    4                                     El padrino II    1974   \n",
       "4    5                               12 hombres en pugna    1957   \n",
       "5    6                             La lista de Schindler    1993   \n",
       "6    7       El señor de los anillos: El retorno del rey    2003   \n",
       "7    8                                 Tiempos violentos    1994   \n",
       "8    9  El señor de los anillos: La comunidad del anillo    2001   \n",
       "9   10                        El bueno, el malo y el feo    1966   \n",
       "\n",
       "                                             Summary  \n",
       "0  Two imprisoned men bond over a number of years...  \n",
       "1  The aging patriarch of an organized crime dyna...  \n",
       "2  When the menace known as the Joker wreaks havo...  \n",
       "3  The early life and career of Vito Corleone in ...  \n",
       "4  The jury in a New York City murder trial is fr...  \n",
       "5  In German-occupied Poland during World War II,...  \n",
       "6  Gandalf and Aragorn lead the World of Men agai...  \n",
       "7  The lives of two mob hitmen, a boxer, a gangst...  \n",
       "8  A meek Hobbit from the Shire and eight compani...  \n",
       "9  A bounty hunting scam joins two men in an unea...  "
      ]
     },
     "execution_count": 28,
     "metadata": {},
     "output_type": "execute_result"
    }
   ],
   "source": [
    "# Acá usamos la lista de links que generamos antes\n",
    "summary = []\n",
    "\n",
    "for link in links[:10]:\n",
    "    html = requests.get(link).content\n",
    "    imdb_soup = BeautifulSoup(html)\n",
    "    summary.append(imdb_soup.find('span',{'class':'sc-16ede01-1 kgphFu'}).text)\n",
    "\n",
    "pd.DataFrame(list(zip([i for i in range(1,11)],titles,releases,summary)), columns=['No.','Movie','Release','Summary'])"
   ]
  },
  {
   "cell_type": "markdown",
   "metadata": {
    "id": "Bv9ykx74Hxlc"
   },
   "source": [
    "#### Find the live weather report (temperature, wind speed, description and weather) of a given city."
   ]
  },
  {
   "cell_type": "code",
   "execution_count": 78,
   "metadata": {
    "id": "QUNo8bKeHxlc",
    "tags": []
   },
   "outputs": [
    {
     "name": "stdout",
     "output_type": "stream",
     "text": [
      "Currently, Dubai is Clear with clear sky, 300.69 °K temperature and wind speed of 3.6 per second\n"
     ]
    }
   ],
   "source": [
    "# https://openweathermap.org/current \n",
    "# Para obtener tu key es necesario crear una cuenta (es gratis) :D\n",
    "city = 'Dubai'\n",
    "key = 'cf48db471e52c583c39b04e256dd4c01'\n",
    "url = f'https://api.openweathermap.org/data/2.5/weather?q={city}&appid={key}'\n",
    "html = requests.get(url)\n",
    "city_json = html.json()\n",
    "print(f\"Currently, {city} is {city_json['weather'][0]['main']} with {city_json['weather'][0]['description']}, {city_json['main']['temp']} °K temperature and wind speed of {city_json['wind']['speed']} per second\")"
   ]
  },
  {
   "cell_type": "markdown",
   "metadata": {
    "id": "XbukBVZOHxlc"
   },
   "source": [
    "#### Book name,price and stock availability as a pandas dataframe."
   ]
  },
  {
   "cell_type": "code",
   "execution_count": null,
   "metadata": {
    "colab": {
     "base_uri": "https://localhost:8080/",
     "height": 424
    },
    "id": "FKrBMtmiHxlc",
    "outputId": "ee258ec6-a36a-4b0a-fe8f-12a6e4960346"
   },
   "outputs": [
    {
     "data": {
      "text/html": [
       "\n",
       "  <div id=\"df-492be191-8d1a-497e-b325-3cf52e146af0\">\n",
       "    <div class=\"colab-df-container\">\n",
       "      <div>\n",
       "<style scoped>\n",
       "    .dataframe tbody tr th:only-of-type {\n",
       "        vertical-align: middle;\n",
       "    }\n",
       "\n",
       "    .dataframe tbody tr th {\n",
       "        vertical-align: top;\n",
       "    }\n",
       "\n",
       "    .dataframe thead th {\n",
       "        text-align: right;\n",
       "    }\n",
       "</style>\n",
       "<table border=\"1\" class=\"dataframe\">\n",
       "  <thead>\n",
       "    <tr style=\"text-align: right;\">\n",
       "      <th></th>\n",
       "      <th>Title</th>\n",
       "      <th>Price</th>\n",
       "      <th>Availability</th>\n",
       "      <th>Stars</th>\n",
       "    </tr>\n",
       "  </thead>\n",
       "  <tbody>\n",
       "    <tr>\n",
       "      <th>0</th>\n",
       "      <td>A Light in the Attic</td>\n",
       "      <td>£51.77</td>\n",
       "      <td>In stock</td>\n",
       "      <td>Three</td>\n",
       "    </tr>\n",
       "    <tr>\n",
       "      <th>1</th>\n",
       "      <td>Tipping the Velvet</td>\n",
       "      <td>£53.74</td>\n",
       "      <td>In stock</td>\n",
       "      <td>One</td>\n",
       "    </tr>\n",
       "    <tr>\n",
       "      <th>2</th>\n",
       "      <td>Soumission</td>\n",
       "      <td>£50.10</td>\n",
       "      <td>In stock</td>\n",
       "      <td>One</td>\n",
       "    </tr>\n",
       "    <tr>\n",
       "      <th>3</th>\n",
       "      <td>Sharp Objects</td>\n",
       "      <td>£47.82</td>\n",
       "      <td>In stock</td>\n",
       "      <td>Four</td>\n",
       "    </tr>\n",
       "    <tr>\n",
       "      <th>4</th>\n",
       "      <td>Sapiens: A Brief History of Humankind</td>\n",
       "      <td>£54.23</td>\n",
       "      <td>In stock</td>\n",
       "      <td>Five</td>\n",
       "    </tr>\n",
       "    <tr>\n",
       "      <th>...</th>\n",
       "      <td>...</td>\n",
       "      <td>...</td>\n",
       "      <td>...</td>\n",
       "      <td>...</td>\n",
       "    </tr>\n",
       "    <tr>\n",
       "      <th>995</th>\n",
       "      <td>Alice in Wonderland (Alice's Adventures in Won...</td>\n",
       "      <td>£55.53</td>\n",
       "      <td>In stock</td>\n",
       "      <td>One</td>\n",
       "    </tr>\n",
       "    <tr>\n",
       "      <th>996</th>\n",
       "      <td>Ajin: Demi-Human, Volume 1 (Ajin: Demi-Human #1)</td>\n",
       "      <td>£57.06</td>\n",
       "      <td>In stock</td>\n",
       "      <td>Four</td>\n",
       "    </tr>\n",
       "    <tr>\n",
       "      <th>997</th>\n",
       "      <td>A Spy's Devotion (The Regency Spies of London #1)</td>\n",
       "      <td>£16.97</td>\n",
       "      <td>In stock</td>\n",
       "      <td>Five</td>\n",
       "    </tr>\n",
       "    <tr>\n",
       "      <th>998</th>\n",
       "      <td>1st to Die (Women's Murder Club #1)</td>\n",
       "      <td>£53.98</td>\n",
       "      <td>In stock</td>\n",
       "      <td>One</td>\n",
       "    </tr>\n",
       "    <tr>\n",
       "      <th>999</th>\n",
       "      <td>1,000 Places to See Before You Die</td>\n",
       "      <td>£26.08</td>\n",
       "      <td>In stock</td>\n",
       "      <td>Five</td>\n",
       "    </tr>\n",
       "  </tbody>\n",
       "</table>\n",
       "<p>1000 rows × 4 columns</p>\n",
       "</div>\n",
       "      <button class=\"colab-df-convert\" onclick=\"convertToInteractive('df-492be191-8d1a-497e-b325-3cf52e146af0')\"\n",
       "              title=\"Convert this dataframe to an interactive table.\"\n",
       "              style=\"display:none;\">\n",
       "        \n",
       "  <svg xmlns=\"http://www.w3.org/2000/svg\" height=\"24px\"viewBox=\"0 0 24 24\"\n",
       "       width=\"24px\">\n",
       "    <path d=\"M0 0h24v24H0V0z\" fill=\"none\"/>\n",
       "    <path d=\"M18.56 5.44l.94 2.06.94-2.06 2.06-.94-2.06-.94-.94-2.06-.94 2.06-2.06.94zm-11 1L8.5 8.5l.94-2.06 2.06-.94-2.06-.94L8.5 2.5l-.94 2.06-2.06.94zm10 10l.94 2.06.94-2.06 2.06-.94-2.06-.94-.94-2.06-.94 2.06-2.06.94z\"/><path d=\"M17.41 7.96l-1.37-1.37c-.4-.4-.92-.59-1.43-.59-.52 0-1.04.2-1.43.59L10.3 9.45l-7.72 7.72c-.78.78-.78 2.05 0 2.83L4 21.41c.39.39.9.59 1.41.59.51 0 1.02-.2 1.41-.59l7.78-7.78 2.81-2.81c.8-.78.8-2.07 0-2.86zM5.41 20L4 18.59l7.72-7.72 1.47 1.35L5.41 20z\"/>\n",
       "  </svg>\n",
       "      </button>\n",
       "      \n",
       "  <style>\n",
       "    .colab-df-container {\n",
       "      display:flex;\n",
       "      flex-wrap:wrap;\n",
       "      gap: 12px;\n",
       "    }\n",
       "\n",
       "    .colab-df-convert {\n",
       "      background-color: #E8F0FE;\n",
       "      border: none;\n",
       "      border-radius: 50%;\n",
       "      cursor: pointer;\n",
       "      display: none;\n",
       "      fill: #1967D2;\n",
       "      height: 32px;\n",
       "      padding: 0 0 0 0;\n",
       "      width: 32px;\n",
       "    }\n",
       "\n",
       "    .colab-df-convert:hover {\n",
       "      background-color: #E2EBFA;\n",
       "      box-shadow: 0px 1px 2px rgba(60, 64, 67, 0.3), 0px 1px 3px 1px rgba(60, 64, 67, 0.15);\n",
       "      fill: #174EA6;\n",
       "    }\n",
       "\n",
       "    [theme=dark] .colab-df-convert {\n",
       "      background-color: #3B4455;\n",
       "      fill: #D2E3FC;\n",
       "    }\n",
       "\n",
       "    [theme=dark] .colab-df-convert:hover {\n",
       "      background-color: #434B5C;\n",
       "      box-shadow: 0px 1px 3px 1px rgba(0, 0, 0, 0.15);\n",
       "      filter: drop-shadow(0px 1px 2px rgba(0, 0, 0, 0.3));\n",
       "      fill: #FFFFFF;\n",
       "    }\n",
       "  </style>\n",
       "\n",
       "      <script>\n",
       "        const buttonEl =\n",
       "          document.querySelector('#df-492be191-8d1a-497e-b325-3cf52e146af0 button.colab-df-convert');\n",
       "        buttonEl.style.display =\n",
       "          google.colab.kernel.accessAllowed ? 'block' : 'none';\n",
       "\n",
       "        async function convertToInteractive(key) {\n",
       "          const element = document.querySelector('#df-492be191-8d1a-497e-b325-3cf52e146af0');\n",
       "          const dataTable =\n",
       "            await google.colab.kernel.invokeFunction('convertToInteractive',\n",
       "                                                     [key], {});\n",
       "          if (!dataTable) return;\n",
       "\n",
       "          const docLinkHtml = 'Like what you see? Visit the ' +\n",
       "            '<a target=\"_blank\" href=https://colab.research.google.com/notebooks/data_table.ipynb>data table notebook</a>'\n",
       "            + ' to learn more about interactive tables.';\n",
       "          element.innerHTML = '';\n",
       "          dataTable['output_type'] = 'display_data';\n",
       "          await google.colab.output.renderOutput(dataTable, element);\n",
       "          const docLink = document.createElement('div');\n",
       "          docLink.innerHTML = docLinkHtml;\n",
       "          element.appendChild(docLink);\n",
       "        }\n",
       "      </script>\n",
       "    </div>\n",
       "  </div>\n",
       "  "
      ],
      "text/plain": [
       "                                                 Title   Price Availability  \\\n",
       "0                                 A Light in the Attic  £51.77     In stock   \n",
       "1                                   Tipping the Velvet  £53.74     In stock   \n",
       "2                                           Soumission  £50.10     In stock   \n",
       "3                                        Sharp Objects  £47.82     In stock   \n",
       "4                Sapiens: A Brief History of Humankind  £54.23     In stock   \n",
       "..                                                 ...     ...          ...   \n",
       "995  Alice in Wonderland (Alice's Adventures in Won...  £55.53     In stock   \n",
       "996   Ajin: Demi-Human, Volume 1 (Ajin: Demi-Human #1)  £57.06     In stock   \n",
       "997  A Spy's Devotion (The Regency Spies of London #1)  £16.97     In stock   \n",
       "998                1st to Die (Women's Murder Club #1)  £53.98     In stock   \n",
       "999                 1,000 Places to See Before You Die  £26.08     In stock   \n",
       "\n",
       "     Stars  \n",
       "0    Three  \n",
       "1      One  \n",
       "2      One  \n",
       "3     Four  \n",
       "4     Five  \n",
       "..     ...  \n",
       "995    One  \n",
       "996   Four  \n",
       "997   Five  \n",
       "998    One  \n",
       "999   Five  \n",
       "\n",
       "[1000 rows x 4 columns]"
      ]
     },
     "execution_count": 48,
     "metadata": {},
     "output_type": "execute_result"
    }
   ],
   "source": [
    "# This is the url you will scrape in this exercise. \n",
    "# It is a fictional bookstore created to be scraped. \n",
    "\n",
    "book_df=pd.DataFrame(columns=['Title','Price','Availability','Stars'])\n",
    "url_pattern = 'http://books.toscrape.com/catalogue/page-%s.html'\n",
    "\n",
    "for i in range(1,51):\n",
    "    url = url_pattern%i\n",
    "    html = requests.get(url).content\n",
    "    book_soup = BeautifulSoup(html)\n",
    "    titles = [x.a['title'] for x in book_soup.find_all('h3')]\n",
    "    prices = [x.text for x in book_soup.select('.price_color')]\n",
    "    in_stock = [re.sub('\\n','',x.text).strip() for x in book_soup.select('.instock')]\n",
    "    ratings = [x['class'][1] for x in book_soup.select('.star-rating')]\n",
    "    temp_books_df = pd.DataFrame(list(zip(titles,prices,in_stock,ratings)), columns = ['Title','Price','Availability','Stars'])\n",
    "    book_df = book_df.append(temp_books_df, ignore_index=True)\n",
    "    \n",
    "book_df"
   ]
  }
 ],
 "metadata": {
  "colab": {
   "provenance": []
  },
  "kernelspec": {
   "display_name": "Python 3 (ipykernel)",
   "language": "python",
   "name": "python3"
  },
  "language_info": {
   "codemirror_mode": {
    "name": "ipython",
    "version": 3
   },
   "file_extension": ".py",
   "mimetype": "text/x-python",
   "name": "python",
   "nbconvert_exporter": "python",
   "pygments_lexer": "ipython3",
   "version": "3.10.8"
  }
 },
 "nbformat": 4,
 "nbformat_minor": 4
}
